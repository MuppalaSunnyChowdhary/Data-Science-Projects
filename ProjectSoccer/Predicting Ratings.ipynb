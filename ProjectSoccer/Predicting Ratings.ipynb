{
 "cells": [
  {
   "cell_type": "code",
   "execution_count": 25,
   "metadata": {
    "ExecuteTime": {
     "end_time": "2017-05-21T05:03:03.866314Z",
     "start_time": "2017-05-21T05:03:03.851669Z"
    },
    "collapsed": true
   },
   "outputs": [],
   "source": [
    "import pandas as pd\n",
    "import numpy as np\n",
    "import seaborn as sns\n",
    "import matplotlib.pyplot as plt\n",
    "import imp\n",
    "import json\n",
    "from sklearn.preprocessing import LabelEncoder\n",
    "from sklearn.ensemble import RandomForestRegressor, RandomForestClassifier, GradientBoostingRegressor\n",
    "from sklearn.linear_model import Ridge, LinearRegression, Lasso\n",
    "from sklearn.kernel_ridge import KernelRidge\n",
    "from sklearn.svm import SVR, LinearSVC\n",
    "from sklearn.model_selection import train_test_split\n",
    "import whoscored\n",
    "import seaborn as sns\n",
    "from unidecode import unidecode\n",
    "import pickle\n",
    "import difflib\n",
    "import glob\n",
    "%matplotlib inline"
   ]
  },
  {
   "cell_type": "markdown",
   "metadata": {},
   "source": [
    "## Data Processing"
   ]
  },
  {
   "cell_type": "code",
   "execution_count": 17,
   "metadata": {
    "ExecuteTime": {
     "end_time": "2017-05-21T05:00:15.202603Z",
     "start_time": "2017-05-21T05:00:15.081729Z"
    },
    "collapsed": true
   },
   "outputs": [],
   "source": [
    "teams = {}\n",
    "for file in glob.glob('./games/*.json'):\n",
    "    with open(file,'r') as f:\n",
    "        teams[file.split('/')[2].split('_')[0]] = json.load(f)"
   ]
  },
  {
   "cell_type": "code",
   "execution_count": 21,
   "metadata": {
    "ExecuteTime": {
     "end_time": "2017-05-21T05:01:41.986757Z",
     "start_time": "2017-05-21T05:01:41.952494Z"
    },
    "collapsed": true
   },
   "outputs": [],
   "source": [
    "def get_position_sub(row):\n",
    "    if row['Position'] == 'Sub':\n",
    "        name = row['Player']\n",
    "        try:\n",
    "            row['Position'] = [k for k in df[df.Player == name].Position.value_counts().index if k !='Sub'][0]\n",
    "        except:\n",
    "            row['Position'] = 'substitute'\n",
    "    return row\n",
    "\n",
    "stop_words = ['<','Bl.', 'Exc.', '>']\n",
    "def mean_rating(row):\n",
    "    if pd.isnull(row['Rating_LEquipe']) or row['Rating_LEquipe'] in stop_words:\n",
    "        name = row['Player']\n",
    "        temp = df[(df.Player == name) & (~df.Rating_LEquipe.isin(stop_words)) & (pd.notnull(df.Rating_LEquipe))]\n",
    "        if len(temp) > 4:\n",
    "            row['Rating_LEquipe'] = np.mean(temp.Rating_LEquipe.apply(int))\n",
    "    return row\n",
    "\n",
    "position_mapping = {'attackingmidfieldcenter' : 'attackingmidfield',\n",
    " 'attackingmidfieldleft' : 'attackingmidfield',\n",
    " 'attackingmidfieldright' : 'attackingmidfield',\n",
    " 'defenderleft' : 'defenderlateral',\n",
    " 'defendermidfieldcenter' : \"defendermidfield\",\n",
    " 'defendermidfieldleft' : 'defendermidfield',\n",
    " 'defendermidfieldright': \"defendermidfield\",\n",
    " 'defenderright': 'defenderlateral',\n",
    " 'forwardleft' : 'forwardlateral',\n",
    " 'forwardright' : 'forwardlateral',\n",
    " 'midfieldcenter' :'midfield' ,\n",
    " 'midfieldleft' :'midfield' ,\n",
    " 'midfieldright' :'midfield' }\n",
    "\n",
    "mapping_team_name = {'ASM': 'Monaco',\n",
    " 'ASNL': 'Nancy',\n",
    " 'ASSE': 'Saint-Etienne',\n",
    " 'DFCO': 'Dijon',\n",
    " 'EAG': 'Guingamp',\n",
    " 'FCGB': 'Bordeaux',\n",
    " 'FCL': 'Lorient',\n",
    " 'FCM': 'Metz',\n",
    " 'FCN': 'Nantes',\n",
    " 'Losc': 'Lille',\n",
    " 'MHSC': 'Montpellier',\n",
    " 'Man. City': 'Manchester City',\n",
    " 'Man. United': 'Manchester United',\n",
    " 'OGCN': 'Nice',\n",
    " 'OL': 'Lyon',\n",
    " 'OM': 'Marseille',\n",
    " 'PSG': 'Paris Saint Germain',\n",
    " 'Palace': 'Crystal Palace',\n",
    " 'SCB': 'SC Bastia',\n",
    " 'SCO': 'Angers',\n",
    " 'SMC': 'Caen',\n",
    " 'SRFC': 'Rennes',\n",
    " 'Stoke City': 'Stoke',\n",
    " 'TFC': 'Toulouse',\n",
    " 'WBA': 'West Bromwich Albion'}"
   ]
  },
  {
   "cell_type": "code",
   "execution_count": 138,
   "metadata": {
    "ExecuteTime": {
     "end_time": "2017-05-21T05:41:57.976844Z",
     "start_time": "2017-05-21T05:41:31.980530Z"
    },
    "collapsed": true
   },
   "outputs": [],
   "source": [
    "df = pd.DataFrame()\n",
    "for team, file in teams.items():\n",
    "    for i, game in enumerate(file):\n",
    "        temp = pd.DataFrame(game['stats'])\n",
    "        temp['Opponent'] = game['opponent']\n",
    "        temp['Place'] = game['place'].title()\n",
    "        result = game['result'].split(' : ')\n",
    "        temp['Goal Team'] = int(result[int(game['place'] == 'away')])\n",
    "        temp['Goal Opponent'] = int(result[int(game['place'] == 'home')])\n",
    "        temp['Team'] = {'psg':'Paris Saint Germain'}.get(team, team).title()\n",
    "        temp['Team'] = {'Bastia': 'SC Bastia'}.get(temp['Team'][0], temp['Team'][0])\n",
    "        temp['Day'] = i+1\n",
    "        df = pd.concat([df, temp])\n",
    "df = df.apply(whoscored.get_name, axis=1).reset_index(drop=True)\n",
    "df['LineUp'] = 1\n",
    "df.loc[df.Position == 'Sub', 'LineUp'] = 0\n",
    "df = df.apply(get_position_sub, axis=1)\n",
    "df.Goal.fillna(0, inplace=True)\n",
    "df.Assist.fillna(0, inplace=True)\n",
    "df.Yellowcard.fillna(0, inplace=True)\n",
    "df.Redcard.fillna(0, inplace=True)\n",
    "df.Penaltymissed.fillna(0, inplace=True)\n",
    "df.Shotonpost.fillna(0, inplace=True)\n",
    "# df.Position = df.Position.apply(lambda x:position_mapping.get(x,x))"
   ]
  },
  {
   "cell_type": "code",
   "execution_count": 139,
   "metadata": {
    "ExecuteTime": {
     "end_time": "2017-05-21T05:41:57.990536Z",
     "start_time": "2017-05-21T05:41:57.978189Z"
    },
    "collapsed": true
   },
   "outputs": [],
   "source": [
    "with open('./ratings/notes_ligue1_lequipe.json','r') as f:\n",
    "    rating_lequipe  = json.load(f)\n",
    "rating_lequipe = {mapping_team_name.get(k,k):[p for p in v if list(p.keys())[0] != 'Nom' and len(list(p.values())[0]) > 0] \n",
    "                    for k,v in rating_lequipe.items()}"
   ]
  },
  {
   "cell_type": "code",
   "execution_count": 140,
   "metadata": {
    "ExecuteTime": {
     "end_time": "2017-05-21T05:42:40.226407Z",
     "start_time": "2017-05-21T05:41:57.992420Z"
    },
    "collapsed": true,
    "scrolled": true
   },
   "outputs": [],
   "source": [
    "for team_name, rating_team in rating_lequipe.items():\n",
    "    if team_name in set(df.Team):\n",
    "        players_lequipe = [list(k.keys())[0] for k in rating_team]\n",
    "        players_df = list(set(df[df.Team == team_name].Player))\n",
    "        for player in rating_team:\n",
    "            [(player_name, player_ratings)] = player.items()\n",
    "            try:\n",
    "                player_name_df = difflib.get_close_matches(player_name, players_df)[0]\n",
    "            except:\n",
    "                if len(unidecode(player_name).split('-')) > 1 :\n",
    "                    player_name_df = [k for k in players_df if unidecode(player_name).split('-')[0].replace(\"'\",\"\").lower() in unidecode(k).replace(\"'\",\"\").lower()\n",
    "                                                             or unidecode(player_name).split('-')[1].replace(\"'\",\"\").lower() in unidecode(k).replace(\"'\",\"\").lower()][0]\n",
    "                else:\n",
    "                    player_name_df = [k for k in players_df if unidecode(player_name).replace(\"'\",\"\").lower() in unidecode(k).replace(\"'\",\"\").lower()][0]\n",
    "            for day, rating in player_ratings.items():\n",
    "                df.loc[(df.Player == player_name_df) & (df.Team == team_name) & (df.Day == int(day.split('Day ')[1])), 'Rating_LEquipe'] = rating\n",
    "df = df.apply(mean_rating, axis=1)\n",
    "df.drop('null', axis=1, inplace=True)"
   ]
  },
  {
   "cell_type": "code",
   "execution_count": 141,
   "metadata": {
    "ExecuteTime": {
     "end_time": "2017-05-21T05:42:40.279122Z",
     "start_time": "2017-05-21T05:42:40.227785Z"
    },
    "scrolled": true
   },
   "outputs": [
    {
     "name": "stdout",
     "output_type": "stream",
     "text": [
      "9552/10187 données avec une note l'Équipe\n"
     ]
    },
    {
     "data": {
      "text/html": [
       "<div>\n",
       "<style>\n",
       "    .dataframe thead tr:only-child th {\n",
       "        text-align: right;\n",
       "    }\n",
       "\n",
       "    .dataframe thead th {\n",
       "        text-align: left;\n",
       "    }\n",
       "\n",
       "    .dataframe tbody tr th {\n",
       "        vertical-align: top;\n",
       "    }\n",
       "</style>\n",
       "<table border=\"1\" class=\"dataframe\">\n",
       "  <thead>\n",
       "    <tr style=\"text-align: right;\">\n",
       "      <th></th>\n",
       "      <th>Team</th>\n",
       "      <th>Goal Team</th>\n",
       "      <th>Goal Opponent</th>\n",
       "      <th>Player</th>\n",
       "      <th>Goal</th>\n",
       "      <th>Opponent</th>\n",
       "      <th>Day</th>\n",
       "      <th>Position</th>\n",
       "      <th>Age</th>\n",
       "      <th>LineUp</th>\n",
       "      <th>Rating_LEquipe</th>\n",
       "    </tr>\n",
       "  </thead>\n",
       "  <tbody>\n",
       "    <tr>\n",
       "      <th>415</th>\n",
       "      <td>Paris Saint Germain</td>\n",
       "      <td>2</td>\n",
       "      <td>1</td>\n",
       "      <td>Thiago Motta</td>\n",
       "      <td>0.0</td>\n",
       "      <td>Lyon</td>\n",
       "      <td>30</td>\n",
       "      <td>midfieldcenter</td>\n",
       "      <td>34</td>\n",
       "      <td>0</td>\n",
       "      <td>5</td>\n",
       "    </tr>\n",
       "    <tr>\n",
       "      <th>9580</th>\n",
       "      <td>Toulouse</td>\n",
       "      <td>0</td>\n",
       "      <td>0</td>\n",
       "      <td>Mauro Goicoechea</td>\n",
       "      <td>0.0</td>\n",
       "      <td>Rennes</td>\n",
       "      <td>30</td>\n",
       "      <td>goalkeeper</td>\n",
       "      <td>29</td>\n",
       "      <td>1</td>\n",
       "      <td>7</td>\n",
       "    </tr>\n",
       "    <tr>\n",
       "      <th>5736</th>\n",
       "      <td>Metz</td>\n",
       "      <td>0</td>\n",
       "      <td>1</td>\n",
       "      <td>Thomas Didillon</td>\n",
       "      <td>0.0</td>\n",
       "      <td>Rennes</td>\n",
       "      <td>11</td>\n",
       "      <td>goalkeeper</td>\n",
       "      <td>21</td>\n",
       "      <td>1</td>\n",
       "      <td>5</td>\n",
       "    </tr>\n",
       "    <tr>\n",
       "      <th>6440</th>\n",
       "      <td>Nantes</td>\n",
       "      <td>1</td>\n",
       "      <td>1</td>\n",
       "      <td>Rémy Riou</td>\n",
       "      <td>0.0</td>\n",
       "      <td>Metz</td>\n",
       "      <td>25</td>\n",
       "      <td>goalkeeper</td>\n",
       "      <td>29</td>\n",
       "      <td>1</td>\n",
       "      <td>5</td>\n",
       "    </tr>\n",
       "    <tr>\n",
       "      <th>3446</th>\n",
       "      <td>Lille</td>\n",
       "      <td>1</td>\n",
       "      <td>0</td>\n",
       "      <td>Eder</td>\n",
       "      <td>0.0</td>\n",
       "      <td>SC Bastia</td>\n",
       "      <td>31</td>\n",
       "      <td>forward</td>\n",
       "      <td>29</td>\n",
       "      <td>1</td>\n",
       "      <td>4</td>\n",
       "    </tr>\n",
       "    <tr>\n",
       "      <th>9100</th>\n",
       "      <td>Saint-Etienne</td>\n",
       "      <td>1</td>\n",
       "      <td>1</td>\n",
       "      <td>Kevin Malcuit</td>\n",
       "      <td>0.0</td>\n",
       "      <td>Rennes</td>\n",
       "      <td>33</td>\n",
       "      <td>defenderright</td>\n",
       "      <td>25</td>\n",
       "      <td>1</td>\n",
       "      <td>5.42105</td>\n",
       "    </tr>\n",
       "    <tr>\n",
       "      <th>5640</th>\n",
       "      <td>Metz</td>\n",
       "      <td>3</td>\n",
       "      <td>0</td>\n",
       "      <td>Yann Jouffre</td>\n",
       "      <td>0.0</td>\n",
       "      <td>Nantes</td>\n",
       "      <td>4</td>\n",
       "      <td>attackingmidfieldright</td>\n",
       "      <td>32</td>\n",
       "      <td>0</td>\n",
       "      <td>4.88889</td>\n",
       "    </tr>\n",
       "    <tr>\n",
       "      <th>2401</th>\n",
       "      <td>Angers</td>\n",
       "      <td>3</td>\n",
       "      <td>0</td>\n",
       "      <td>Abdoulaye Bamba</td>\n",
       "      <td>0.0</td>\n",
       "      <td>SC Bastia</td>\n",
       "      <td>27</td>\n",
       "      <td>defenderright</td>\n",
       "      <td>27</td>\n",
       "      <td>1</td>\n",
       "      <td>6</td>\n",
       "    </tr>\n",
       "  </tbody>\n",
       "</table>\n",
       "</div>"
      ],
      "text/plain": [
       "                     Team  Goal Team  Goal Opponent            Player  Goal  \\\n",
       "415   Paris Saint Germain          2              1      Thiago Motta   0.0   \n",
       "9580             Toulouse          0              0  Mauro Goicoechea   0.0   \n",
       "5736                 Metz          0              1   Thomas Didillon   0.0   \n",
       "6440               Nantes          1              1         Rémy Riou   0.0   \n",
       "3446                Lille          1              0              Eder   0.0   \n",
       "9100        Saint-Etienne          1              1     Kevin Malcuit   0.0   \n",
       "5640                 Metz          3              0      Yann Jouffre   0.0   \n",
       "2401               Angers          3              0   Abdoulaye Bamba   0.0   \n",
       "\n",
       "       Opponent  Day                Position  Age  LineUp Rating_LEquipe  \n",
       "415        Lyon   30          midfieldcenter   34       0              5  \n",
       "9580     Rennes   30              goalkeeper   29       1              7  \n",
       "5736     Rennes   11              goalkeeper   21       1              5  \n",
       "6440       Metz   25              goalkeeper   29       1              5  \n",
       "3446  SC Bastia   31                 forward   29       1              4  \n",
       "9100     Rennes   33           defenderright   25       1        5.42105  \n",
       "5640     Nantes    4  attackingmidfieldright   32       0        4.88889  \n",
       "2401  SC Bastia   27           defenderright   27       1              6  "
      ]
     },
     "execution_count": 141,
     "metadata": {},
     "output_type": "execute_result"
    }
   ],
   "source": [
    "print('%d/%d données avec une note l\\'Équipe' % (len(df[(~df.Rating_LEquipe.isin(stop_words)) & (pd.notnull(df.Rating_LEquipe))]),\n",
    "                                                len(df)))\n",
    "df[['Team','Goal Team', 'Goal Opponent', 'Player', 'Goal',\n",
    "    'Opponent', 'Day', 'Position', 'Age', 'LineUp', 'Rating_LEquipe']].sort_values('Player').sample(8)"
   ]
  },
  {
   "cell_type": "code",
   "execution_count": 143,
   "metadata": {
    "ExecuteTime": {
     "end_time": "2017-05-21T05:43:00.252474Z",
     "start_time": "2017-05-21T05:43:00.221024Z"
    },
    "collapsed": true
   },
   "outputs": [],
   "source": [
    "with open('./df.pkl', 'rb') as f:\n",
    "    df = pickle.load(f)"
   ]
  },
  {
   "cell_type": "code",
   "execution_count": 176,
   "metadata": {
    "ExecuteTime": {
     "end_time": "2017-05-21T07:45:29.115217Z",
     "start_time": "2017-05-21T07:45:28.990990Z"
    },
    "collapsed": true
   },
   "outputs": [],
   "source": [
    "other_cols = ['Day', \"Opponent\", \"Place\", \"Player\", \"Position\", \n",
    "                \"Team\", 'Key Events', \"Rating_LEquipe\"]\n",
    "col_delete = ['Key Events', \"Rating_LEquipe\", 'Rating', 'Day']\n",
    "cols_to_transf = [col for col in df.columns if col not in other_cols]\n",
    "p = pd.concat([df[cols_to_transf].applymap(float), df[other_cols]], axis=1)\n",
    "new_col_to_remov = [e for e in p.columns if e.startswith('Acc')] + ['Touches']"
   ]
  },
  {
   "cell_type": "markdown",
   "metadata": {
    "ExecuteTime": {
     "end_time": "2017-05-20T18:57:44.123776Z",
     "start_time": "2017-05-20T18:57:44.118723Z"
    }
   },
   "source": [
    "## Learning"
   ]
  },
  {
   "cell_type": "code",
   "execution_count": 177,
   "metadata": {
    "ExecuteTime": {
     "end_time": "2017-05-21T07:45:30.269693Z",
     "start_time": "2017-05-21T07:45:30.254692Z"
    },
    "collapsed": true
   },
   "outputs": [],
   "source": [
    "p = p[(~p.Rating_LEquipe.isin(stop_words)) & (pd.notnull(p.Rating_LEquipe))].set_index('Player')\n",
    "X = p[[col for col in p.columns if col not in col_delete + new_col_to_remov]]\n",
    "y = p['Rating_LEquipe'].apply(float)"
   ]
  },
  {
   "cell_type": "code",
   "execution_count": 178,
   "metadata": {
    "ExecuteTime": {
     "end_time": "2017-05-21T07:45:31.239689Z",
     "start_time": "2017-05-21T07:45:30.949497Z"
    }
   },
   "outputs": [
    {
     "name": "stderr",
     "output_type": "stream",
     "text": [
      "/Users/alexandreattia/Desktop/Work/workenv/lib/python3.5/site-packages/ipykernel/__main__.py:5: SettingWithCopyWarning: \n",
      "A value is trying to be set on a copy of a slice from a DataFrame.\n",
      "Try using .loc[row_indexer,col_indexer] = value instead\n",
      "\n",
      "See the caveats in the documentation: http://pandas.pydata.org/pandas-docs/stable/indexing.html#indexing-view-versus-copy\n"
     ]
    }
   ],
   "source": [
    "label_encoders = {}\n",
    "col_encode = [\"Opponent\", \"Place\", \"Position\", \"Team\"]\n",
    "for col in col_encode:\n",
    "    label_encoders[col.lower()] = LabelEncoder()\n",
    "    X[col] = label_encoders[col.lower()].fit_transform(X[col])"
   ]
  },
  {
   "cell_type": "code",
   "execution_count": 223,
   "metadata": {
    "ExecuteTime": {
     "end_time": "2017-05-21T17:33:53.092656Z",
     "start_time": "2017-05-21T17:33:53.046043Z"
    }
   },
   "outputs": [
    {
     "name": "stdout",
     "output_type": "stream",
     "text": [
      "5-fold cross validation mean square error : 0.86\n"
     ]
    }
   ],
   "source": [
    "d = []\n",
    "k_fold = 5\n",
    "for k in range(k_fold): \n",
    "    X_train, X_test, y_train, y_test = train_test_split(X, y, test_size=1/k_fold)\n",
    "    ridge = Ridge(alpha=0.001, max_iter=10000, tol=0.0001)\n",
    "    ridge.fit(X_train, y_train)\n",
    "    d.append(np.mean((ridge.predict(X_test) - y_test) ** 2))\n",
    "print('%d-fold cross validation mean square error : %.2f' % (k_fold, np.mean(d)))\n",
    "ridge = Ridge(alpha=0.001, max_iter=10000, tol=0.0001)\n",
    "_ = ridge.fit(X, y)"
   ]
  },
  {
   "cell_type": "code",
   "execution_count": 191,
   "metadata": {
    "ExecuteTime": {
     "end_time": "2017-05-21T16:35:35.419822Z",
     "start_time": "2017-05-21T16:35:35.090624Z"
    }
   },
   "outputs": [
    {
     "data": {
      "text/plain": [
       "<matplotlib.axes._subplots.AxesSubplot at 0x10eb46ef0>"
      ]
     },
     "execution_count": 191,
     "metadata": {},
     "output_type": "execute_result"
    },
    {
     "data": {
      "image/png": "[encoded data removed]",
      "text/plain": [
       "<matplotlib.figure.Figure at 0x112312438>"
      ]
     },
     "metadata": {},
     "output_type": "display_data"
    }
   ],
   "source": [
    "f,ax = plt.subplots(figsize=(12,7))\n",
    "top_k = 10\n",
    "l = np.argsort(list(map(np.abs, ridge.coef_)))[::-1][:top_k]\n",
    "coeff_imp = [(X_train.columns[ll],ridge.coef_[ll]) for ll in l]\n",
    "# print(\"The %d most important parameters are:\\n%s\" % (top_k,'\\n'.join(['%s : %.2f' % (a,b) for a,b in coeff_imp])))\n",
    "sns.barplot([a[0] for a in coeff_imp], [a[1] for a in coeff_imp])"
   ]
  },
  {
   "cell_type": "code",
   "execution_count": 232,
   "metadata": {
    "ExecuteTime": {
     "end_time": "2017-05-21T17:41:19.149856Z",
     "start_time": "2017-05-21T17:40:49.548652Z"
    }
   },
   "outputs": [
    {
     "name": "stdout",
     "output_type": "stream",
     "text": [
      "RF : oob score : 0.34\n",
      "RF : 5-fold cross validation mean square error : 0.73\n"
     ]
    }
   ],
   "source": [
    "rf = RandomForestRegressor(oob_score=True, n_estimators=100)\n",
    "rf.fit(X, y)\n",
    "print('RF : oob score : %.2f' % rf.oob_score_)\n",
    "d = []\n",
    "k_fold = 5\n",
    "for k in range(k_fold): \n",
    "    X_train, X_test, y_train, y_test = train_test_split(X, y, test_size=1/k_fold)\n",
    "    rf = RandomForestRegressor(oob_score=True, n_estimators=100, )\n",
    "    rf.fit(X_train, y_train)\n",
    "    d.append(np.mean((rf.predict(X_test) - y_test) ** 2))\n",
    "print('RF : %d-fold cross validation mean square error : %.2f' % (k_fold, np.mean(d)))"
   ]
  },
  {
   "cell_type": "code",
   "execution_count": null,
   "metadata": {
    "collapsed": true
   },
   "outputs": [],
   "source": []
  }
 ],
 "metadata": {
  "kernelspec": {
   "display_name": "workenv",
   "language": "python",
   "name": "workenv"
  },
  "language_info": {
   "codemirror_mode": {
    "name": "ipython",
    "version": 3
   },
   "file_extension": ".py",
   "mimetype": "text/x-python",
   "name": "python",
   "nbconvert_exporter": "python",
   "pygments_lexer": "ipython3",
   "version": "3.5.2"
  },
  "nav_menu": {},
  "toc": {
   "navigate_menu": true,
   "number_sections": true,
   "sideBar": true,
   "threshold": 6,
   "toc_cell": false,
   "toc_section_display": "block",
   "toc_window_display": false
  }
 },
 "nbformat": 4,
 "nbformat_minor": 2
}
