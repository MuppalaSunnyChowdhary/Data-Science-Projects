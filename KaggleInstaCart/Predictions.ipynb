{
 "cells": [
  {
   "cell_type": "code",
   "execution_count": 6,
   "metadata": {
    "ExecuteTime": {
     "end_time": "2017-06-21T21:37:22.901368Z",
     "start_time": "2017-06-21T21:37:21.787528Z"
    },
    "collapsed": true
   },
   "outputs": [],
   "source": [
    "import numpy as np\n",
    "import pandas as pd\n",
    "import matplotlib.pyplot as plt\n",
    "import seaborn as sns\n",
    "import calendar\n",
    "%matplotlib inline"
   ]
  },
  {
   "cell_type": "code",
   "execution_count": 7,
   "metadata": {
    "ExecuteTime": {
     "end_time": "2017-06-21T21:37:36.669912Z",
     "start_time": "2017-06-21T21:37:22.902860Z"
    },
    "collapsed": true
   },
   "outputs": [],
   "source": [
    "# departements and aisle id\n",
    "aisles = pd.read_csv('./data/aisles.csv')\n",
    "departements = pd.read_csv('./data/departments.csv')\n",
    "products = pd.read_csv('./data/products.csv')\n",
    "orderp = pd.read_csv('./data/order_products__prior.csv')\n",
    "ordert = pd.read_csv('./data/order_products__train.csv')\n",
    "orders = pd.read_csv('./data/orders.csv')"
   ]
  },
  {
   "cell_type": "code",
   "execution_count": 8,
   "metadata": {
    "ExecuteTime": {
     "end_time": "2017-06-21T21:37:43.774516Z",
     "start_time": "2017-06-21T21:37:36.671328Z"
    }
   },
   "outputs": [],
   "source": [
    "order_products = pd.merge(orderp, orders, on = 'order_id')"
   ]
  },
  {
   "cell_type": "code",
   "execution_count": null,
   "metadata": {
    "ExecuteTime": {
     "start_time": "2017-06-21T21:37:22.391Z"
    }
   },
   "outputs": [],
   "source": [
    "data = order_products.groupby(['product_id', 'user_id']).agg({'order_id':'count',\n",
    "                                                      'order_number':[np.min, np.max],\n",
    "                                                      'add_to_cart_order':'mean'})\n",
    "data.columns = data.columns.droplevel(0)\n",
    "data = data.rename(columns={'mean':\"up_average_cart_position\", \n",
    "                    'amin':\"up_first_order\", \n",
    "                    'amax':\"up_last_order\", \n",
    "                    'count':\"up_orders\"})\n",
    "data = data.reset_index()"
   ]
  },
  {
   "cell_type": "code",
   "execution_count": null,
   "metadata": {
    "ExecuteTime": {
     "start_time": "2017-06-21T21:37:23.516Z"
    },
    "scrolled": true
   },
   "outputs": [],
   "source": [
    "d = pd.merge(data, order_products, on='product_id')"
   ]
  },
  {
   "cell_type": "code",
   "execution_count": null,
   "metadata": {
    "collapsed": true
   },
   "outputs": [],
   "source": []
  }
 ],
 "metadata": {
  "kernelspec": {
   "display_name": "workenv",
   "language": "python",
   "name": "workenv"
  },
  "language_info": {
   "codemirror_mode": {
    "name": "ipython",
    "version": 3
   },
   "file_extension": ".py",
   "mimetype": "text/x-python",
   "name": "python",
   "nbconvert_exporter": "python",
   "pygments_lexer": "ipython3",
   "version": "3.5.3"
  },
  "nav_menu": {},
  "toc": {
   "navigate_menu": true,
   "number_sections": true,
   "sideBar": true,
   "threshold": 6,
   "toc_cell": false,
   "toc_section_display": "block",
   "toc_window_display": false
  }
 },
 "nbformat": 4,
 "nbformat_minor": 2
}
